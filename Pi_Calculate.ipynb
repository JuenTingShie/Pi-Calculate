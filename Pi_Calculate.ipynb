{
  "nbformat": 4,
  "nbformat_minor": 0,
  "metadata": {
    "colab": {
      "name": "Pi Calculate.ipynb",
      "provenance": [],
      "collapsed_sections": []
    },
    "kernelspec": {
      "name": "python3",
      "display_name": "Python 3"
    }
  },
  "cells": [
    {
      "cell_type": "markdown",
      "metadata": {
        "id": "_knfygK-SuRN",
        "colab_type": "text"
      },
      "source": [
        "Pi Calculate Reference to : [this](https://rosettacode.org/wiki/Pi#Python)\n",
        "\n",
        "a website talk about Pi : [link](http://www.math.com/tables/constants/pi.htm)\n",
        "\n",
        "to compare solutions, use [this](https://text-compare.com/) and [this](https://www.browserling.com/tools/remove-all-whitespace)"
      ]
    },
    {
      "cell_type": "markdown",
      "metadata": {
        "id": "boROd_ZcSbgw",
        "colab_type": "text"
      },
      "source": [
        "**Login to Google Drive to Save file:**"
      ]
    },
    {
      "cell_type": "code",
      "metadata": {
        "id": "TN1dg3hvMzVh",
        "colab_type": "code",
        "colab": {}
      },
      "source": [
        "from google.colab import drive\n",
        "drive.mount('/content/gdrive')"
      ],
      "execution_count": 0,
      "outputs": []
    },
    {
      "cell_type": "code",
      "metadata": {
        "id": "YrhWBEBZNBpu",
        "colab_type": "code",
        "colab": {}
      },
      "source": [
        "!ls /content/gdrive/'My Drive'"
      ],
      "execution_count": 0,
      "outputs": []
    },
    {
      "cell_type": "markdown",
      "metadata": {
        "id": "TtUOEMyaSCVo",
        "colab_type": "text"
      },
      "source": [
        "**Here is a simple Pi calculate test:**"
      ]
    },
    {
      "cell_type": "code",
      "metadata": {
        "id": "LmtHmxoIEG9E",
        "colab_type": "code",
        "colab": {}
      },
      "source": [
        "import random\n",
        "import time\n",
        "N=1000*1000\n",
        "k=0\n",
        "start=time.perf_counter()\n",
        "for i in range(N):\n",
        "    x,y=random.random(),random.random()\n",
        "    dist=pow(x**2+y**2,0.5)\n",
        "    if dist<=1.0:\n",
        "        k+=1\n",
        "pi=4*(k/N)\n",
        "print(\"pi={},run time={:.2f}s\".format(pi,time.perf_counter()-start))\n"
      ],
      "execution_count": 0,
      "outputs": []
    },
    {
      "cell_type": "markdown",
      "metadata": {
        "id": "ubJQpNuOSLOe",
        "colab_type": "text"
      },
      "source": [
        "**Another Infinity Pi Calculate:**"
      ]
    },
    {
      "cell_type": "code",
      "metadata": {
        "id": "KQz0OYmZJJ3r",
        "colab_type": "code",
        "colab": {}
      },
      "source": [
        "import sys\n",
        "\n",
        "\n",
        "def calcPi():\n",
        "    q, r, t, k, n, l = 1, 0, 1, 1, 3, 3\n",
        "    while True:\n",
        "        if 4*q+r-t < n*t:\n",
        "            yield n\n",
        "            nr = 10*(r-n*t)\n",
        "            n = ((10*(3*q+r))//t)-10*n\n",
        "            q *= 10\n",
        "            r = nr\n",
        "        else:\n",
        "            nr = (2*q+r)*l\n",
        "            nn = (q*(7*k)+2+(r*l))//(t*l)\n",
        "            q *= k\n",
        "            t *= l\n",
        "            l += 2\n",
        "            k += 1\n",
        "            n = nn\n",
        "            r = nr\n",
        "\n",
        "\n",
        "pi_digits = calcPi()\n",
        "i = 0\n",
        "j = 0\n",
        "ij = 0\n",
        "file_num = 0\n",
        "for d in pi_digits:\n",
        "    sys.stdout.write(str(d))\n",
        "    i += 1\n",
        "    j += 1\n",
        "    ij += 1\n",
        "    file = open(\"/content/gdrive/My Drive/pi/{}.txt\".format(file_num), \"a+\")\n",
        "    file.write(str(d))\n",
        "    file.close()\n",
        "    if ij == 10:\n",
        "        file = open(\"/content/gdrive/My Drive/pi/{}.txt\".format(file_num), \"a+\")\n",
        "        file.write(\" \")\n",
        "        file.close()\n",
        "        ij = 0\n",
        "    if i == 50:  # Write new line\n",
        "        print(\"\")\n",
        "        file = open(\"/content/gdrive/My Drive/pi/{}.txt\".format(file_num), \"a+\")\n",
        "        file.write(\"\\n\")\n",
        "        file.close()\n",
        "        i = 0\n",
        "    if j == 1000:\n",
        "        file_num += 1\n",
        "        j = 0"
      ],
      "execution_count": 0,
      "outputs": []
    }
  ]
}